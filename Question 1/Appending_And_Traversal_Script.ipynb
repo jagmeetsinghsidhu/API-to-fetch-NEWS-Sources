{
  "nbformat": 4,
  "nbformat_minor": 0,
  "metadata": {
    "colab": {
      "name": "Appending And Traversal Script.ipynb",
      "provenance": []
    },
    "kernelspec": {
      "name": "python3",
      "display_name": "Python 3"
    },
    "language_info": {
      "name": "python"
    }
  },
  "cells": [
    {
      "cell_type": "code",
      "metadata": {
        "id": "6nI7QyxTPupc"
      },
      "source": [
        "#Iporting The header Files\n",
        "import pandas as pd # this header file is mainly for preprocessing data \n",
        "import zipfile #importing this header file help us to handle zip files"
      ],
      "execution_count": 196,
      "outputs": []
    },
    {
      "cell_type": "code",
      "metadata": {
        "colab": {
          "base_uri": "https://localhost:8080/"
        },
        "id": "WjVsKNMSR4YO",
        "outputId": "f38dfd98-835e-44bd-8a88-55865ee85857"
      },
      "source": [
        "#Importing the zipe file and unzipping it\n",
        "zip = zipfile.ZipFile(r'C:\\Users\\Jagmeet Singh Sidhu\\Desktop\\Manulife Engineering\\Question 1\\Input.zip') #Provide the path to the zipped folder\n",
        "list_of_file_names  = zip.namelist() #storing al file names present in the folder\n",
        "# print(list_of_file_names) "
      ],
      "execution_count": 197,
      "outputs": [
        {
          "output_type": "stream",
          "text": [
            "['Asia Prod 1.csv', 'Asia Prod 2.csv', 'Asia Prod 3.csv', 'Asia Prod 4.csv', 'NA Prod.csv']\n"
          ],
          "name": "stdout"
        }
      ]
    },
    {
      "cell_type": "code",
      "metadata": {
        "id": "Jmj1TYjHbG-K"
      },
      "source": [
        "dic = {} #initialized dictionary to print the final rows and append them to combine.CSV file\n",
        "\n",
        "\n",
        "#created seprate dataframes for combined files and remaining other ones\n",
        "for i in range(len(list_of_file_names)):\n",
        "  \n",
        "  #created dataframe for files other than combined one(eg. Asia prod, NA prod etc)\n",
        "  if 'Combined' not in list_of_file_names[i]:\n",
        "    df = pd.read_csv(zip.open(list_of_file_names[i]))\n",
        "    temp = list_of_file_names[i].split(\".csv\")\n",
        "\n",
        "    #Created dictionary where key is file name and value is the Pandas Series of Source IP column names\n",
        "    for char in range(len(temp[0])-1,-1,-1):\n",
        "      if(ord(temp[0][char]) >=48 and ord(temp[0][char]) <=57 ) :\n",
        "        temp[0] = temp[0][:-1:]\n",
        "    \n",
        "    #Created end result dataframe now removing numbers from the end and \".csv extension\" from filenames\n",
        "    if (temp[0][-1] == \" \"):\n",
        "      temp = temp[0][:-1:]\n",
        "    else:\n",
        "      temp = temp[0]\n",
        "    dic[temp] = df['Source IP']\n",
        "  else:\n",
        "    combined = pd.read_csv(zip.open(list_of_file_names[i]))"
      ],
      "execution_count": 198,
      "outputs": []
    },
    {
      "cell_type": "code",
      "metadata": {
        "id": "ZCzlVfx2Gm1I"
      },
      "source": [
        "#Final Step of putting and updating Combined.csv file \n",
        "for key,value in (dic.items()):\n",
        "  #Converting Pandas series to List to apend them seprately in the column\n",
        "  value = value.to_list()\n",
        "\n",
        "  for k in (value):\n",
        "    new_row = {'Source IP':k,'Environment':key}\n",
        "    #Appending rows seprately in the final dataframe and updating values\n",
        "    combined = combined.append(new_row, ignore_index=True)\n",
        "combined.to_csv(r'C:\\Users\\Jagmeet Singh Sidhu\\Desktop\\Manulife Engineering\\Question 1\\Combined.csv') #input the final Path where you want to save the File specifically"
      ],
      "execution_count": 199,
      "outputs": []
    }
  ]
}